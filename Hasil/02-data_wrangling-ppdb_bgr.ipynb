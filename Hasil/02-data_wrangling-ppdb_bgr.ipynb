{
 "cells": [
  {
   "cell_type": "code",
   "execution_count": 1,
   "metadata": {},
   "outputs": [],
   "source": [
    "import pandas as pd"
   ]
  },
  {
   "cell_type": "markdown",
   "metadata": {},
   "source": [
    "## Prestasi"
   ]
  },
  {
   "cell_type": "code",
   "execution_count": 9,
   "metadata": {},
   "outputs": [],
   "source": [
    "smp_prestasi_hasil = pd.read_csv('datasets/prestasi/smp_prestasi_hasil.csv', index_col=[0])\n",
    "smp_prestasi_hasil_asal = pd.read_csv('datasets/prestasi/asal/smp_prestasi_hasil_asal.csv', usecols=[\"Nama Siswa\", \"Asal Sekolah\"])"
   ]
  },
  {
   "cell_type": "code",
   "execution_count": 11,
   "metadata": {},
   "outputs": [],
   "source": [
    "smp_prestasi_asal = smp_prestasi_hasil.merge(smp_prestasi_hasil_asal, on=\"Nama Siswa\", how='left')"
   ]
  },
  {
   "cell_type": "code",
   "execution_count": 15,
   "metadata": {},
   "outputs": [
    {
     "data": {
      "text/html": [
       "<div>\n",
       "<style scoped>\n",
       "    .dataframe tbody tr th:only-of-type {\n",
       "        vertical-align: middle;\n",
       "    }\n",
       "\n",
       "    .dataframe tbody tr th {\n",
       "        vertical-align: top;\n",
       "    }\n",
       "\n",
       "    .dataframe thead th {\n",
       "        text-align: right;\n",
       "    }\n",
       "</style>\n",
       "<table border=\"1\" class=\"dataframe\">\n",
       "  <thead>\n",
       "    <tr style=\"text-align: right;\">\n",
       "      <th></th>\n",
       "      <th>Nomor Pendaftaran</th>\n",
       "      <th>Nama Siswa</th>\n",
       "      <th>Jalur</th>\n",
       "      <th>Status</th>\n",
       "      <th>Sekolah Pilihan</th>\n",
       "      <th>Status Domisili</th>\n",
       "      <th>Jenis Kejuaraan</th>\n",
       "      <th>Nilai Total</th>\n",
       "      <th>Asal Sekolah</th>\n",
       "    </tr>\n",
       "  </thead>\n",
       "  <tbody>\n",
       "    <tr>\n",
       "      <th>0</th>\n",
       "      <td>20220385030700033</td>\n",
       "      <td>Fergal Adika</td>\n",
       "      <td>Prestasi Akademik/Non Akademik</td>\n",
       "      <td>Diterima</td>\n",
       "      <td>SMP NEGERI 1 BOGOR</td>\n",
       "      <td>Dalam Kota</td>\n",
       "      <td>Basket</td>\n",
       "      <td>400.0</td>\n",
       "      <td>SDN SUKADAMAI 3</td>\n",
       "    </tr>\n",
       "    <tr>\n",
       "      <th>1</th>\n",
       "      <td>20220385030700023</td>\n",
       "      <td>TENGKU KHALIZA WARDHANI</td>\n",
       "      <td>Prestasi Akademik/Non Akademik</td>\n",
       "      <td>Diterima</td>\n",
       "      <td>SMP NEGERI 1 BOGOR</td>\n",
       "      <td>Dalam Kota</td>\n",
       "      <td>Basket</td>\n",
       "      <td>360.0</td>\n",
       "      <td>SD NEGERI POLISI 1</td>\n",
       "    </tr>\n",
       "    <tr>\n",
       "      <th>2</th>\n",
       "      <td>20220385030700002</td>\n",
       "      <td>CEVAN RIZQ</td>\n",
       "      <td>Prestasi Akademik/Non Akademik</td>\n",
       "      <td>Diterima</td>\n",
       "      <td>SMP NEGERI 1 BOGOR</td>\n",
       "      <td>Dalam Kota</td>\n",
       "      <td>Basket</td>\n",
       "      <td>360.0</td>\n",
       "      <td>SD NEGERI POLISI 4</td>\n",
       "    </tr>\n",
       "    <tr>\n",
       "      <th>3</th>\n",
       "      <td>20220385030700018</td>\n",
       "      <td>KEIKO ZAHRA AL HUSNA</td>\n",
       "      <td>Prestasi Akademik/Non Akademik</td>\n",
       "      <td>Diterima</td>\n",
       "      <td>SMP NEGERI 1 BOGOR</td>\n",
       "      <td>Dalam Kota</td>\n",
       "      <td>Basket</td>\n",
       "      <td>340.0</td>\n",
       "      <td>SD NEGERI POLISI 4</td>\n",
       "    </tr>\n",
       "    <tr>\n",
       "      <th>4</th>\n",
       "      <td>20220385030700015</td>\n",
       "      <td>RYUNOMIZAN ALTAF</td>\n",
       "      <td>Prestasi Akademik/Non Akademik</td>\n",
       "      <td>Diterima</td>\n",
       "      <td>SMP NEGERI 1 BOGOR</td>\n",
       "      <td>Dalam Kota</td>\n",
       "      <td>Basket</td>\n",
       "      <td>320.0</td>\n",
       "      <td>SDN SUKADAMAI 3</td>\n",
       "    </tr>\n",
       "  </tbody>\n",
       "</table>\n",
       "</div>"
      ],
      "text/plain": [
       "   Nomor Pendaftaran               Nama Siswa                           Jalur  \\\n",
       "0  20220385030700033             Fergal Adika  Prestasi Akademik/Non Akademik   \n",
       "1  20220385030700023  TENGKU KHALIZA WARDHANI  Prestasi Akademik/Non Akademik   \n",
       "2  20220385030700002               CEVAN RIZQ  Prestasi Akademik/Non Akademik   \n",
       "3  20220385030700018     KEIKO ZAHRA AL HUSNA  Prestasi Akademik/Non Akademik   \n",
       "4  20220385030700015         RYUNOMIZAN ALTAF  Prestasi Akademik/Non Akademik   \n",
       "\n",
       "     Status     Sekolah Pilihan Status Domisili Jenis Kejuaraan Nilai Total  \\\n",
       "0  Diterima  SMP NEGERI 1 BOGOR      Dalam Kota          Basket       400.0   \n",
       "1  Diterima  SMP NEGERI 1 BOGOR      Dalam Kota          Basket       360.0   \n",
       "2  Diterima  SMP NEGERI 1 BOGOR      Dalam Kota          Basket       360.0   \n",
       "3  Diterima  SMP NEGERI 1 BOGOR      Dalam Kota          Basket       340.0   \n",
       "4  Diterima  SMP NEGERI 1 BOGOR      Dalam Kota          Basket       320.0   \n",
       "\n",
       "         Asal Sekolah  \n",
       "0     SDN SUKADAMAI 3  \n",
       "1  SD NEGERI POLISI 1  \n",
       "2  SD NEGERI POLISI 4  \n",
       "3  SD NEGERI POLISI 4  \n",
       "4     SDN SUKADAMAI 3  "
      ]
     },
     "execution_count": 15,
     "metadata": {},
     "output_type": "execute_result"
    }
   ],
   "source": [
    "smp_prestasi_asal.head()"
   ]
  },
  {
   "cell_type": "code",
   "execution_count": 16,
   "metadata": {},
   "outputs": [],
   "source": [
    "smp_prestasi_asal.to_csv('shiny-datasets/smp_prestasi_asal.csv')"
   ]
  },
  {
   "cell_type": "markdown",
   "metadata": {},
   "source": [
    "# Rapor"
   ]
  },
  {
   "cell_type": "code",
   "execution_count": 17,
   "metadata": {},
   "outputs": [],
   "source": [
    "smp_rapor_hasil = pd.read_csv('datasets/rapor/smp_rapor_hasil.csv', index_col=[0])\n",
    "smp_rapor_hasil_asal = pd.read_csv('datasets/rapor/asal/smp_rapor_hasil_asal.csv', usecols=[\"Nama Siswa\", \"Asal Sekolah\"])"
   ]
  },
  {
   "cell_type": "code",
   "execution_count": 20,
   "metadata": {},
   "outputs": [
    {
     "data": {
      "text/html": [
       "<div>\n",
       "<style scoped>\n",
       "    .dataframe tbody tr th:only-of-type {\n",
       "        vertical-align: middle;\n",
       "    }\n",
       "\n",
       "    .dataframe tbody tr th {\n",
       "        vertical-align: top;\n",
       "    }\n",
       "\n",
       "    .dataframe thead th {\n",
       "        text-align: right;\n",
       "    }\n",
       "</style>\n",
       "<table border=\"1\" class=\"dataframe\">\n",
       "  <thead>\n",
       "    <tr style=\"text-align: right;\">\n",
       "      <th></th>\n",
       "      <th>Nomor Pendaftaran</th>\n",
       "      <th>Nama Siswa</th>\n",
       "      <th>Jalur</th>\n",
       "      <th>Status</th>\n",
       "      <th>Sekolah Pilihan</th>\n",
       "      <th>Status Domisili</th>\n",
       "      <th>Nilai Total</th>\n",
       "      <th>Asal Sekolah</th>\n",
       "    </tr>\n",
       "  </thead>\n",
       "  <tbody>\n",
       "    <tr>\n",
       "      <th>0</th>\n",
       "      <td>20220385030100104</td>\n",
       "      <td>NADINE SAKYA PRINERDY</td>\n",
       "      <td>Prestasi Rapor</td>\n",
       "      <td>Diterima</td>\n",
       "      <td>SMP NEGERI 1 BOGOR</td>\n",
       "      <td>Dalam Kota</td>\n",
       "      <td>198.07</td>\n",
       "      <td>SD PERTIWI</td>\n",
       "    </tr>\n",
       "    <tr>\n",
       "      <th>1</th>\n",
       "      <td>20220385030100107</td>\n",
       "      <td>Alifia Natika Budiawan</td>\n",
       "      <td>Prestasi Rapor</td>\n",
       "      <td>Diterima</td>\n",
       "      <td>SMP NEGERI 1 BOGOR</td>\n",
       "      <td>Dalam Kota</td>\n",
       "      <td>197.87</td>\n",
       "      <td>SD PERTIWI</td>\n",
       "    </tr>\n",
       "    <tr>\n",
       "      <th>2</th>\n",
       "      <td>20220385030100117</td>\n",
       "      <td>Sayyid Arsyad Edi Khumaini</td>\n",
       "      <td>Prestasi Rapor</td>\n",
       "      <td>Diterima</td>\n",
       "      <td>SMP NEGERI 1 BOGOR</td>\n",
       "      <td>Dalam Kota</td>\n",
       "      <td>197.83</td>\n",
       "      <td>SD PERTIWI</td>\n",
       "    </tr>\n",
       "    <tr>\n",
       "      <th>3</th>\n",
       "      <td>20220385030100102</td>\n",
       "      <td>SULTAN AL FARIZY</td>\n",
       "      <td>Prestasi Rapor</td>\n",
       "      <td>Diterima</td>\n",
       "      <td>SMP NEGERI 1 BOGOR</td>\n",
       "      <td>Dalam Kota</td>\n",
       "      <td>197.80</td>\n",
       "      <td>SD PERTIWI</td>\n",
       "    </tr>\n",
       "    <tr>\n",
       "      <th>4</th>\n",
       "      <td>20220385030100009</td>\n",
       "      <td>ABIMANYU RAYHAN LINTANG RAMADHAN</td>\n",
       "      <td>Prestasi Rapor</td>\n",
       "      <td>Diterima</td>\n",
       "      <td>SMP NEGERI 1 BOGOR</td>\n",
       "      <td>Dalam Kota</td>\n",
       "      <td>197.27</td>\n",
       "      <td>SD INSAN KAMIL</td>\n",
       "    </tr>\n",
       "  </tbody>\n",
       "</table>\n",
       "</div>"
      ],
      "text/plain": [
       "   Nomor Pendaftaran                        Nama Siswa           Jalur  \\\n",
       "0  20220385030100104             NADINE SAKYA PRINERDY  Prestasi Rapor   \n",
       "1  20220385030100107            Alifia Natika Budiawan  Prestasi Rapor   \n",
       "2  20220385030100117        Sayyid Arsyad Edi Khumaini  Prestasi Rapor   \n",
       "3  20220385030100102                  SULTAN AL FARIZY  Prestasi Rapor   \n",
       "4  20220385030100009  ABIMANYU RAYHAN LINTANG RAMADHAN  Prestasi Rapor   \n",
       "\n",
       "     Status     Sekolah Pilihan Status Domisili  Nilai Total    Asal Sekolah  \n",
       "0  Diterima  SMP NEGERI 1 BOGOR      Dalam Kota       198.07      SD PERTIWI  \n",
       "1  Diterima  SMP NEGERI 1 BOGOR      Dalam Kota       197.87      SD PERTIWI  \n",
       "2  Diterima  SMP NEGERI 1 BOGOR      Dalam Kota       197.83      SD PERTIWI  \n",
       "3  Diterima  SMP NEGERI 1 BOGOR      Dalam Kota       197.80      SD PERTIWI  \n",
       "4  Diterima  SMP NEGERI 1 BOGOR      Dalam Kota       197.27  SD INSAN KAMIL  "
      ]
     },
     "execution_count": 20,
     "metadata": {},
     "output_type": "execute_result"
    }
   ],
   "source": [
    "smp_rapor_asal = smp_rapor_hasil.merge(smp_rapor_hasil_asal, on=\"Nama Siswa\", how='left')\n",
    "smp_rapor_asal.head()"
   ]
  },
  {
   "cell_type": "code",
   "execution_count": 24,
   "metadata": {},
   "outputs": [],
   "source": [
    "smp_rapor_asal.to_csv('shiny-datasets/smp_rapor_asal.csv')"
   ]
  },
  {
   "cell_type": "markdown",
   "metadata": {},
   "source": [
    "# Zonasi"
   ]
  },
  {
   "cell_type": "code",
   "execution_count": null,
   "metadata": {},
   "outputs": [],
   "source": []
  }
 ],
 "metadata": {
  "kernelspec": {
   "display_name": "PPDB",
   "language": "python",
   "name": "python3"
  },
  "language_info": {
   "codemirror_mode": {
    "name": "ipython",
    "version": 3
   },
   "file_extension": ".py",
   "mimetype": "text/x-python",
   "name": "python",
   "nbconvert_exporter": "python",
   "pygments_lexer": "ipython3",
   "version": "3.11.4"
  },
  "orig_nbformat": 4
 },
 "nbformat": 4,
 "nbformat_minor": 2
}
